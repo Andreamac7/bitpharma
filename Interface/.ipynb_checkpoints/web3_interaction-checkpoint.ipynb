{
 "cells": [
  {
   "cell_type": "code",
   "execution_count": 1,
   "metadata": {},
   "outputs": [],
   "source": [
    "import json\n",
    "from web3 import Web3"
   ]
  },
  {
   "cell_type": "markdown",
   "metadata": {},
   "source": [
    "### How To compile .sol file on your local machine and retrive the ABI file \n",
    "---\n",
    "To compile .sol file on your local machine and retrive the ABI file you need to install a compiler.  So first install the solidity compiler \n",
    "```\n",
    "git clone --recursive https://github.com/ethereum/solidity.git\n",
    "cd solidity\n",
    "./scripts/build.sh\n",
    "```\n",
    "The main issue we had is that our code need to be compiled with solidity 0.5.17. Hence, you need to install the compiler for this version with this code:\n",
    "```\n",
    "git clone https://github.com/crytic/solc-select.git\n",
    "./solc-select/scripts/install.sh\n",
    "```\n",
    "Then add to the PATH with this line of code, replacing USERNAME with your username\n",
    "```\n",
    "export PATH=/home/USERNAME/.solc-select:$PATH\n",
    "```\n",
    "Now you can generate the abi and the bytecode of the .sol contract:\n",
    "```\n",
    "solc use 0.5.17\n",
    "solc prescriptions.sol  --abi --bin -o .\n",
    "```"
   ]
  },
  {
   "cell_type": "code",
   "execution_count": 2,
   "metadata": {},
   "outputs": [],
   "source": [
    "with open('bitpharma.abi') as json_file:\n",
    "    abi_ = json.loads(json_file.read())\n",
    "    \n",
    "with open('bitpharma.bin') as file:\n",
    "    bin_ = file.read()"
   ]
  },
  {
   "cell_type": "code",
   "execution_count": 3,
   "metadata": {},
   "outputs": [],
   "source": [
    "# Need to be initalized Ganache and set the right URL \n",
    "ganache_URL = \"HTTP://127.0.0.1:7545\"\n",
    "w3 = Web3(Web3.HTTPProvider(ganache_URL))"
   ]
  },
  {
   "cell_type": "code",
   "execution_count": 4,
   "metadata": {},
   "outputs": [],
   "source": [
    "doctor =  w3.eth.accounts[0]\n",
    "patient =  w3.eth.accounts[1]\n",
    "pharmacy =  w3.eth.accounts[2]"
   ]
  },
  {
   "cell_type": "code",
   "execution_count": 7,
   "metadata": {},
   "outputs": [],
   "source": [
    "#cant transact without this\n",
    "w3.eth.defaultAccount = doctor   #not sure about this\n",
    "contract = w3.eth.contract(doctor, abi = abi_, bytecode = bin_)\n",
    "contract.constructor(doctor, patient, pharmacy).transact()\n",
    "\n",
    "# This should be general but then it doesn't work (with no main account)\n",
    "tx_hash = contract.constructor(doctor, patient, pharmacy).transact()\n",
    "tx_receipt = w3.eth.waitForTransactionReceipt(tx_hash)\n",
    "contract_address = tx_receipt['contractAddress']\n",
    "contract_deployed = w3.eth.contract(address = contract_address, abi = abi_)"
   ]
  },
  {
   "cell_type": "markdown",
   "metadata": {},
   "source": [
    "The doctor prescribes meth"
   ]
  },
  {
   "cell_type": "code",
   "execution_count": 8,
   "metadata": {},
   "outputs": [],
   "source": [
    "medicine_name = 'meth'\n",
    "quantity = 2 \n",
    "max_claim = 1\n",
    "purchase_cooldown = 60\n",
    "days_expiration = 120\n",
    "\n",
    "def new_prescription(medicine_name, quantity, max_claim,\n",
    "                     purchase_cooldown, days_expiration, \n",
    "                     patient_address, contract):\n",
    "    \"\"\"\n",
    "    Doctors use this function to prescrive a medicine to a \n",
    "    patient.\n",
    "    \n",
    "    Parameters\n",
    "    ----------\n",
    "    medicine_name: name of the medicine\n",
    "    quantity: quantity of the medicine\n",
    "    max_claim: maximum number of times the prescription can \n",
    "    be used \n",
    "    purchase_cooldown: days in which the prescription will\n",
    "    expire (90 days)\n",
    "    days_expiration: days in which the medicine will expire\n",
    "    patient_address: public key of the patient\n",
    "    \"\"\"\n",
    "    return contract.functions.newPrescription(medicine_name, quantity, max_claim, \n",
    "                                       purchase_cooldown, days_expiration, \n",
    "                                       patient_address).transact()\n",
    "    \n"
   ]
  },
  {
   "cell_type": "code",
   "execution_count": 9,
   "metadata": {},
   "outputs": [
    {
     "data": {
      "text/plain": [
       "HexBytes('0x59027713feff275b2339cd7d01cde6a9fb19cb789d59c0459e003612116dbf51')"
      ]
     },
     "execution_count": 9,
     "metadata": {},
     "output_type": "execute_result"
    }
   ],
   "source": [
    "new_prescription(medicine_name, quantity, max_claim,\n",
    "                     purchase_cooldown, days_expiration, \n",
    "                     patient, contract)"
   ]
  },
  {
   "cell_type": "markdown",
   "metadata": {},
   "source": [
    "The patient access her/his prescriptions"
   ]
  },
  {
   "cell_type": "code",
   "execution_count": 10,
   "metadata": {},
   "outputs": [],
   "source": [
    "def my_prescriptions():\n",
    "    \"\"\"\n",
    "    Returns the list of prescriptions \n",
    "    \"\"\"\n",
    "    return contract.functions.my_prescriptions().call()"
   ]
  },
  {
   "cell_type": "code",
   "execution_count": null,
   "metadata": {},
   "outputs": [],
   "source": [
    "my_prescriptions()"
   ]
  },
  {
   "cell_type": "code",
   "execution_count": null,
   "metadata": {},
   "outputs": [],
   "source": []
  },
  {
   "cell_type": "code",
   "execution_count": null,
   "metadata": {},
   "outputs": [],
   "source": []
  },
  {
   "cell_type": "code",
   "execution_count": null,
   "metadata": {},
   "outputs": [],
   "source": []
  },
  {
   "cell_type": "code",
   "execution_count": null,
   "metadata": {},
   "outputs": [],
   "source": []
  },
  {
   "cell_type": "code",
   "execution_count": null,
   "metadata": {},
   "outputs": [],
   "source": [
    "\"\"\"\n",
    "def patient_purchasing()\n",
    "def close_transaction()\n",
    "def patient_prescriptions()\n",
    "def check_prescriprions()\n",
    "def prescription_details()\n",
    "\"\"\""
   ]
  }
 ],
 "metadata": {
  "kernelspec": {
   "display_name": "Python 3",
   "language": "python",
   "name": "python3"
  },
  "language_info": {
   "codemirror_mode": {
    "name": "ipython",
    "version": 3
   },
   "file_extension": ".py",
   "mimetype": "text/x-python",
   "name": "python",
   "nbconvert_exporter": "python",
   "pygments_lexer": "ipython3",
   "version": "3.7.9"
  }
 },
 "nbformat": 4,
 "nbformat_minor": 4
}

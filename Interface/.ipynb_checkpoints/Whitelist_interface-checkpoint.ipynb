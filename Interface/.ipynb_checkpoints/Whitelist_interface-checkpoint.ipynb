{
 "cells": [
  {
   "cell_type": "code",
   "execution_count": 1,
   "metadata": {},
   "outputs": [],
   "source": [
    "import json\n",
    "from web3 import Web3\n",
    "\n",
    "with open('bitpharma_wl.abi') as json_file:\n",
    "    abi_ = json.loads(json_file.read())\n",
    "    \n",
    "with open('bitpharma_wl.bin') as file:\n",
    "    bin_ = file.read()"
   ]
  },
  {
   "cell_type": "code",
   "execution_count": 2,
   "metadata": {},
   "outputs": [],
   "source": [
    "ganache_URL = \"HTTP://127.0.0.1:7545\"\n",
    "w3 = Web3(Web3.HTTPProvider(ganache_URL))"
   ]
  },
  {
   "cell_type": "code",
   "execution_count": 3,
   "metadata": {},
   "outputs": [],
   "source": [
    "bitpharma_manager =  w3.eth.accounts[0]\n",
    "w3.eth.defaultAccount = bitpharma_manager\n",
    "contract = w3.eth.contract(bitpharma_manager, abi = abi_, bytecode = bin_)\n",
    "tx_hash=contract.constructor().transact() #deploy\n",
    "tx_receipt = w3.eth.waitForTransactionReceipt(tx_hash)\n",
    "contract_address = tx_receipt['contractAddress'] ## address of the contract\n",
    "contract_deployed = w3.eth.contract(address = contract_address, abi = abi_)"
   ]
  },
  {
   "cell_type": "code",
   "execution_count": 33,
   "metadata": {},
   "outputs": [
    {
     "data": {
      "text/plain": [
       "'0x5AF025f9EB0704640060E2181E1300c69F5c095F'"
      ]
     },
     "execution_count": 33,
     "metadata": {},
     "output_type": "execute_result"
    }
   ],
   "source": [
    "contract_address"
   ]
  },
  {
   "cell_type": "code",
   "execution_count": 31,
   "metadata": {},
   "outputs": [
    {
     "data": {
      "text/plain": [
       "HexBytes('0x55dcbbed9d7e62f0737b36050bd5a6a481d0e0b95b70e2a4946d6f5e5ed6847b')"
      ]
     },
     "execution_count": 31,
     "metadata": {},
     "output_type": "execute_result"
    }
   ],
   "source": [
    "contract_deployed.functions.add_doctor('0x38EE014ae0D40349b518450f9BE889Ee6403CC17').transact()"
   ]
  },
  {
   "cell_type": "code",
   "execution_count": 38,
   "metadata": {},
   "outputs": [
    {
     "data": {
      "text/plain": [
       "False"
      ]
     },
     "execution_count": 38,
     "metadata": {},
     "output_type": "execute_result"
    }
   ],
   "source": [
    "contract_deployed.functions.is_pharmacy('0x38EE014ae0D40349b518450f9BE889Ee6403CC17').call()"
   ]
  }
 ],
 "metadata": {
  "kernelspec": {
   "display_name": "Python 3",
   "language": "python",
   "name": "python3"
  },
  "language_info": {
   "codemirror_mode": {
    "name": "ipython",
    "version": 3
   },
   "file_extension": ".py",
   "mimetype": "text/x-python",
   "name": "python",
   "nbconvert_exporter": "python",
   "pygments_lexer": "ipython3",
   "version": "3.7.9"
  }
 },
 "nbformat": 4,
 "nbformat_minor": 4
}

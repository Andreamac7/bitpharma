{
 "cells": [
  {
   "cell_type": "code",
   "execution_count": 1,
   "metadata": {},
   "outputs": [],
   "source": [
    "import json\n",
    "from web3 import Web3\n",
    "\n",
    "with open('bitpharma_wl.abi') as json_file:\n",
    "    abi_ = json.loads(json_file.read())\n",
    "    \n",
    "with open('bitpharma_wl.bin') as file:\n",
    "    bin_ = file.read()"
   ]
  },
  {
   "cell_type": "code",
   "execution_count": 2,
   "metadata": {},
   "outputs": [],
   "source": [
    "ganache_URL = \"HTTP://127.0.0.1:7545\"\n",
    "w3 = Web3(Web3.HTTPProvider(ganache_URL))"
   ]
  },
  {
   "cell_type": "code",
   "execution_count": 3,
   "metadata": {},
   "outputs": [],
   "source": [
    "bitpharma_manager =  w3.eth.accounts[0]\n",
    "w3.eth.defaultAccount = bitpharma_manager\n",
    "contract = w3.eth.contract(bitpharma_manager, abi = abi_, bytecode = bin_)\n",
    "tx_hash=contract.constructor().transact() #deploy\n",
    "tx_receipt = w3.eth.waitForTransactionReceipt(tx_hash)\n",
    "contract_address = tx_receipt['contractAddress'] ## address of the contract\n",
    "contract_deployed = w3.eth.contract(address = contract_address, abi = abi_)"
   ]
  },
  {
   "cell_type": "code",
   "execution_count": 4,
   "metadata": {},
   "outputs": [],
   "source": [
    "def add_doctor(contract_deployed,address):\n",
    "    contract_deployed.functions.add_doctor(address).transact()"
   ]
  },
  {
   "cell_type": "code",
   "execution_count": 6,
   "metadata": {},
   "outputs": [],
   "source": [
    "add_doctor(contract_deployed,'0xFb7b5D52cb7eE2d6FeC40AdAd922a79B89fb3f0B')"
   ]
  },
  {
   "cell_type": "code",
   "execution_count": 38,
   "metadata": {},
   "outputs": [
    {
     "data": {
      "text/plain": [
       "False"
      ]
     },
     "execution_count": 38,
     "metadata": {},
     "output_type": "execute_result"
    }
   ],
   "source": [
    "contract_deployed.functions.is_pharmacy('0x38EE014ae0D40349b518450f9BE889Ee6403CC17').call()"
   ]
  }
 ],
 "metadata": {
  "kernelspec": {
   "display_name": "Python 3",
   "language": "python",
   "name": "python3"
  },
  "language_info": {
   "codemirror_mode": {
    "name": "ipython",
    "version": 3
   },
   "file_extension": ".py",
   "mimetype": "text/x-python",
   "name": "python",
   "nbconvert_exporter": "python",
   "pygments_lexer": "ipython3",
   "version": "3.7.9"
  }
 },
 "nbformat": 4,
 "nbformat_minor": 4
}
